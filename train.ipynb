{
 "cells": [
  {
   "cell_type": "markdown",
   "metadata": {},
   "source": [
    "## 车牌映射"
   ]
  },
  {
   "cell_type": "code",
   "execution_count": 2,
   "metadata": {},
   "outputs": [],
   "source": [
    "vocabulary = [\"京\", \"沪\", \"津\", \"渝\", \"冀\", \"晋\", \"蒙\", \"辽\", \"吉\", \"黑\", \"苏\", \"浙\", \"皖\", \"闽\", \"赣\", \"鲁\", \"豫\", \"鄂\", \"湘\", \"粤\", \"桂\",\n",
    "\"琼\", \"川\", \"贵\", \"云\", \"藏\", \"陕\", \"甘\", \"青\", \"宁\", \"新\", \"0\", \"1\", \"2\", \"3\", \"4\", \"5\", \"6\", \"7\", \"8\", \"9\", \"A\",\n",
    "\"B\", \"C\", \"D\", \"E\", \"F\", \"G\", \"H\", \"J\", \"K\", \"L\", \"M\", \"N\", \"P\", \"Q\", \"R\", \"S\", \"T\", \"U\", \"V\", \"W\", \"X\",\n",
    "\"Y\", \"Z\", \"-\", \"[\", \"]\"]"
   ]
  },
  {
   "cell_type": "code",
   "execution_count": 3,
   "metadata": {},
   "outputs": [
    {
     "data": {
      "text/plain": [
       "68"
      ]
     },
     "execution_count": 3,
     "metadata": {},
     "output_type": "execute_result"
    }
   ],
   "source": [
    "len(vocabulary)"
   ]
  },
  {
   "cell_type": "code",
   "execution_count": 4,
   "metadata": {},
   "outputs": [
    {
     "name": "stderr",
     "output_type": "stream",
     "text": [
      "2023-11-15 01:49:27.549414: I tensorflow/core/platform/cpu_feature_guard.cc:193] This TensorFlow binary is optimized with oneAPI Deep Neural Network Library (oneDNN) to use the following CPU instructions in performance-critical operations:  AVX2 AVX512F AVX512_VNNI FMA\n",
      "To enable them in other operations, rebuild TensorFlow with the appropriate compiler flags.\n",
      "2023-11-15 01:49:27.694942: I tensorflow/core/util/util.cc:169] oneDNN custom operations are on. You may see slightly different numerical results due to floating-point round-off errors from different computation orders. To turn them off, set the environment variable `TF_ENABLE_ONEDNN_OPTS=0`.\n",
      "2023-11-15 01:49:27.746207: E tensorflow/stream_executor/cuda/cuda_blas.cc:2981] Unable to register cuBLAS factory: Attempting to register factory for plugin cuBLAS when one has already been registered\n",
      "2023-11-15 01:49:28.457315: W tensorflow/stream_executor/platform/default/dso_loader.cc:64] Could not load dynamic library 'libnvinfer.so.7'; dlerror: libnvinfer.so.7: cannot open shared object file: No such file or directory; LD_LIBRARY_PATH: /root/miniconda3/envs/py38/lib/python3.8/site-packages/cv2/../../lib64:/usr/local/nvidia/lib:/usr/local/nvidia/lib64\n",
      "2023-11-15 01:49:28.457390: W tensorflow/stream_executor/platform/default/dso_loader.cc:64] Could not load dynamic library 'libnvinfer_plugin.so.7'; dlerror: libnvinfer_plugin.so.7: cannot open shared object file: No such file or directory; LD_LIBRARY_PATH: /root/miniconda3/envs/py38/lib/python3.8/site-packages/cv2/../../lib64:/usr/local/nvidia/lib:/usr/local/nvidia/lib64\n",
      "2023-11-15 01:49:28.457396: W tensorflow/compiler/tf2tensorrt/utils/py_utils.cc:38] TF-TRT Warning: Cannot dlopen some TensorRT libraries. If you would like to use Nvidia GPU with TensorRT, please make sure the missing libraries mentioned above are installed properly.\n"
     ]
    }
   ],
   "source": [
    "import pandas as pd\n",
    "import numpy as np\n",
    "# np.object = object\n",
    "import tensorflow as tf\n",
    "from tensorflow.keras.models import Sequential\n",
    "from tensorflow.keras.layers import Conv2D, MaxPooling2D, Flatten, Dense, Dropout, BatchNormalization\n",
    "from tensorflow.keras.preprocessing.image import ImageDataGenerator\n",
    "from sklearn.model_selection import train_test_split\n",
    "from tensorflow.keras.utils import to_categorical\n",
    "from tensorflow.keras.optimizers import Adam\n",
    "from tensorflow.keras.layers import Reshape\n",
    "from tensorflow.keras.callbacks import ReduceLROnPlateau\n",
    "import cv2\n",
    "import os"
   ]
  },
  {
   "cell_type": "code",
   "execution_count": 5,
   "metadata": {},
   "outputs": [],
   "source": [
    "# 创建字符到整数的映射\n",
    "char_to_int = dict((c, i) for i, c in enumerate(vocabulary))\n",
    "\n",
    "# 创建整数到字符的映射\n",
    "int_to_char = dict((i, c) for i, c in enumerate(vocabulary))"
   ]
  },
  {
   "cell_type": "code",
   "execution_count": 6,
   "metadata": {},
   "outputs": [],
   "source": [
    "# 预处理函数，用于读取图片并调整大小\n",
    "kernel = cv2.getStructuringElement(cv2.MORPH_RECT, (2, 2))\n",
    "def preprocess_image(filename, img_folder, img_size):\n",
    "    img_path = os.path.join(img_folder, f\"{filename}.jpg\")\n",
    "    img = cv2.imread(img_path)\n",
    "    # print(img_path)\n",
    "    # img = cv2.cvtColor(img, cv2.COLOR_BGR2RGB)\n",
    "    # denoised_image = cv2.fastNlMeansDenoisingColored(img, None, 10, 10, 7, 21) # 进行去噪处理\n",
    "    # plate_image = cv2.dilate(denoised_image, kernel)\n",
    "    img = cv2.resize(img, (80, 30))\n",
    "    # img = find_plate(img)\n",
    "    \n",
    "    return img\n",
    "\n",
    "# 将车牌标签转换为独热编码\n",
    "def encode_labels(labels, max_label_length):\n",
    "    encoded_labels = np.zeros((len(labels), max_label_length, len(vocabulary)), dtype=np.float32)\n",
    "    for i, label in enumerate(labels):\n",
    "        label_length = len(label)\n",
    "        for j, char in enumerate(label):\n",
    "            encoded_labels[i, j, char_to_int[char]] = 1\n",
    "        # 如果车牌短于最大长度，使用结束符来填充\n",
    "        for k in range(label_length, max_label_length):\n",
    "            encoded_labels[i, k, char_to_int[\"-\"]] = 1\n",
    "    return encoded_labels\n"
   ]
  },
  {
   "cell_type": "code",
   "execution_count": 7,
   "metadata": {},
   "outputs": [],
   "source": [
    "# 载入CSV文件\n",
    "df = pd.read_csv('IMtrain_license_lables.csv')"
   ]
  },
  {
   "cell_type": "markdown",
   "metadata": {},
   "source": [
    "## 数据预处理，X存放图片，Y存放标签"
   ]
  },
  {
   "cell_type": "code",
   "execution_count": 8,
   "metadata": {},
   "outputs": [],
   "source": [
    "# 数据预处理\n",
    "img_folder = 'train_process'\n",
    "img_size = (30, 80)\n",
    "X = []\n",
    "y = []\n",
    "\n",
    "for index, row in df.iterrows():\n",
    "    # 跳过不包含车牌的图片\n",
    "    image_path = os.path.join(img_folder, f\"{row['image_name']}.jpg\")\n",
    "    if not os.path.exists(image_path) or row['data_true'] == '[]':\n",
    "        continue\n",
    "    img = preprocess_image(row['image_name'], img_folder, img_size)\n",
    "    label = row['data_true']\n",
    "    X.append(img)\n",
    "    y.append(label)\n",
    "    # if len(X)%1000==0:\n",
    "    # print(\"complete.... \",len(X))"
   ]
  },
  {
   "cell_type": "code",
   "execution_count": 9,
   "metadata": {},
   "outputs": [
    {
     "data": {
      "text/plain": [
       "20180"
      ]
     },
     "execution_count": 9,
     "metadata": {},
     "output_type": "execute_result"
    }
   ],
   "source": [
    "len(X)"
   ]
  },
  {
   "cell_type": "code",
   "execution_count": 10,
   "metadata": {},
   "outputs": [
    {
     "data": {
      "text/plain": [
       "'皖AP1E08'"
      ]
     },
     "execution_count": 10,
     "metadata": {},
     "output_type": "execute_result"
    }
   ],
   "source": [
    "len(X),len(y)\n",
    "y[0]"
   ]
  },
  {
   "cell_type": "markdown",
   "metadata": {},
   "source": [
    "## 转换成独热编码"
   ]
  },
  {
   "cell_type": "code",
   "execution_count": 11,
   "metadata": {},
   "outputs": [],
   "source": [
    "\n",
    "label_name_len = len(y[0])+1\n",
    "\n",
    "# 将字符串数字化\n",
    "def text2vec(text):\n",
    "    text = text.ljust(label_name_len, '-')\n",
    "    vector = np.zeros([label_name_len, len(vocabulary)])\n",
    "    for i, c in enumerate(text):\n",
    "        idx = vocabulary.index(c)\n",
    "        vector[i][idx] = 1.0\n",
    "    return vector\n",
    "\n",
    "all_labels = [text2vec(i) for i in y]"
   ]
  },
  {
   "cell_type": "code",
   "execution_count": 12,
   "metadata": {},
   "outputs": [
    {
     "data": {
      "text/plain": [
       "array([0., 0., 0., 0., 0., 0., 0., 0., 0., 0., 0., 0., 0., 0., 0., 0., 0.,\n",
       "       0., 0., 0., 0., 0., 0., 0., 0., 0., 0., 0., 0., 0., 0., 0., 0., 0.,\n",
       "       0., 0., 0., 0., 0., 0., 0., 0., 0., 0., 0., 0., 0., 0., 0., 0., 0.,\n",
       "       0., 0., 0., 0., 0., 0., 0., 0., 0., 0., 0., 0., 0., 0., 1., 0., 0.])"
      ]
     },
     "execution_count": 12,
     "metadata": {},
     "output_type": "execute_result"
    }
   ],
   "source": [
    "all_labels[0][7]"
   ]
  },
  {
   "cell_type": "code",
   "execution_count": 13,
   "metadata": {},
   "outputs": [],
   "source": [
    "X = np.array(X)\n",
    "X_train, X_test, y_train, y_test = train_test_split(X, all_labels, test_size=0.2, random_state=42)"
   ]
  },
  {
   "cell_type": "code",
   "execution_count": 15,
   "metadata": {},
   "outputs": [],
   "source": [
    "#数据增强\n",
    "def augment(image, label):\n",
    "  image = tf.image.random_brightness(image, 0.1) \n",
    "  image = tf.image.random_contrast(image, 0.8, 1.2)\n",
    "  \n",
    "  return image, label"
   ]
  },
  {
   "cell_type": "code",
   "execution_count": 16,
   "metadata": {},
   "outputs": [
    {
     "name": "stderr",
     "output_type": "stream",
     "text": [
      "2023-11-15 01:50:02.336775: I tensorflow/core/platform/cpu_feature_guard.cc:193] This TensorFlow binary is optimized with oneAPI Deep Neural Network Library (oneDNN) to use the following CPU instructions in performance-critical operations:  AVX2 AVX512F AVX512_VNNI FMA\n",
      "To enable them in other operations, rebuild TensorFlow with the appropriate compiler flags.\n",
      "2023-11-15 01:50:02.972454: I tensorflow/core/common_runtime/gpu/gpu_device.cc:1616] Created device /job:localhost/replica:0/task:0/device:GPU:0 with 22298 MB memory:  -> device: 0, name: NVIDIA GeForce RTX 3090, pci bus id: 0000:52:00.0, compute capability: 8.6\n"
     ]
    }
   ],
   "source": [
    "train_data = tf.data.Dataset.from_tensor_slices((X_train, y_train))\n",
    "# 应用增强\n",
    "train_data = train_data.map(augment, num_parallel_calls=tf.data.AUTOTUNE)\n",
    "test_data = tf.data.Dataset.from_tensor_slices((X_test, y_test))"
   ]
  },
  {
   "cell_type": "code",
   "execution_count": 17,
   "metadata": {},
   "outputs": [],
   "source": [
    "BATCH_SIZE = 256\n",
    "\n",
    "train_data = train_data.shuffle(buffer_size=1024).batch(BATCH_SIZE) \n",
    "test_data = test_data.batch(BATCH_SIZE)"
   ]
  },
  {
   "cell_type": "markdown",
   "metadata": {},
   "source": [
    "## 建立模型"
   ]
  },
  {
   "cell_type": "code",
   "execution_count": 18,
   "metadata": {},
   "outputs": [],
   "source": [
    "# 建立模型\n",
    "def getCNNModel(shape):\n",
    "    model = Sequential([\n",
    "        Conv2D(32, (3, 3),  padding = \"same\", activation='relu', input_shape=(30, 80, 3)),\n",
    "        BatchNormalization(),\n",
    "        MaxPooling2D((2, 2), strides =2, padding = \"same\"),\n",
    "        Conv2D(64, (3, 3), padding = 'same', activation='relu'),\n",
    "        Dropout(0.2),\n",
    "        BatchNormalization(),\n",
    "        MaxPooling2D((2, 2), strides = 2 , padding = 'same'),\n",
    "        Conv2D(128, (3, 3), padding = 'same', activation='relu'),\n",
    "        BatchNormalization(),\n",
    "        MaxPooling2D((2, 2), strides = 2 , padding = 'same'),\n",
    "        Flatten(),\n",
    "        Dense(512, activation='relu'),\n",
    "        Dropout(0.5),\n",
    "        Dense(label_name_len * len(vocabulary), activation='softmax'),\n",
    "        # 将输出重新构造为标签的形状\n",
    "        Reshape((label_name_len, len(vocabulary)))\n",
    "    ])\n",
    "    return model"
   ]
  },
  {
   "cell_type": "code",
   "execution_count": 19,
   "metadata": {},
   "outputs": [],
   "source": [
    "initial_learning_rate = 1e-3\n",
    "\n",
    "#自适应学习率\n",
    "lr_schedule = tf.keras.optimizers.schedules.ExponentialDecay(\n",
    "        initial_learning_rate, \n",
    "        decay_steps=75,      # 敲黑板！！！这里是指 steps，不是指epochs\n",
    "        decay_rate=0.96,     # lr经过一次衰减就会变成 decay_rate*lr\n",
    "        staircase=True)\n",
    "\n",
    "# 将指数衰减学习率送入优化器\n",
    "optimizer = tf.keras.optimizers.Adam(learning_rate=lr_schedule)\n",
    "model = getCNNModel(X_train[0].shape)\n",
    "model.compile(optimizer=optimizer,\n",
    "              loss='categorical_crossentropy',\n",
    "              metrics=['accuracy'])"
   ]
  },
  {
   "cell_type": "code",
   "execution_count": 20,
   "metadata": {},
   "outputs": [],
   "source": [
    "model.summary()"
   ]
  },
  {
   "cell_type": "code",
   "execution_count": 21,
   "metadata": {},
   "outputs": [
    {
     "name": "stdout",
     "output_type": "stream",
     "text": [
      "Epoch 1/120\n"
     ]
    },
    {
     "name": "stderr",
     "output_type": "stream",
     "text": [
      "2023-11-15 01:50:06.823348: I tensorflow/stream_executor/cuda/cuda_dnn.cc:384] Loaded cuDNN version 8200\n",
      "2023-11-15 01:50:08.783690: I tensorflow/stream_executor/cuda/cuda_blas.cc:1614] TensorFloat-32 will be used for the matrix multiplication. This will only be logged once.\n"
     ]
    },
    {
     "name": "stdout",
     "output_type": "stream",
     "text": [
      "64/64 [==============================] - 6s 32ms/step - loss: 2.4357 - accuracy: 0.4055 - val_loss: 2.4288 - val_accuracy: 0.4648\n",
      "Epoch 2/120\n",
      "64/64 [==============================] - 2s 27ms/step - loss: 1.8837 - accuracy: 0.5026 - val_loss: 1.6852 - val_accuracy: 0.6250\n",
      "Epoch 3/120\n",
      "64/64 [==============================] - 2s 27ms/step - loss: 1.4996 - accuracy: 0.6006 - val_loss: 1.2426 - val_accuracy: 0.7246\n",
      "Epoch 4/120\n",
      "64/64 [==============================] - 2s 27ms/step - loss: 1.2304 - accuracy: 0.6635 - val_loss: 0.9818 - val_accuracy: 0.7751\n",
      "Epoch 5/120\n",
      "64/64 [==============================] - 2s 31ms/step - loss: 1.0415 - accuracy: 0.7059 - val_loss: 0.7652 - val_accuracy: 0.8111\n",
      "Epoch 6/120\n",
      "64/64 [==============================] - 2s 33ms/step - loss: 0.9196 - accuracy: 0.7350 - val_loss: 0.6485 - val_accuracy: 0.8412\n",
      "Epoch 7/120\n",
      "64/64 [==============================] - 3s 39ms/step - loss: 0.8212 - accuracy: 0.7600 - val_loss: 0.5455 - val_accuracy: 0.8617\n",
      "Epoch 8/120\n",
      "64/64 [==============================] - 3s 39ms/step - loss: 0.7469 - accuracy: 0.7791 - val_loss: 0.4803 - val_accuracy: 0.8747\n",
      "Epoch 9/120\n",
      "64/64 [==============================] - 3s 47ms/step - loss: 0.6909 - accuracy: 0.7945 - val_loss: 0.4290 - val_accuracy: 0.8896\n",
      "Epoch 10/120\n",
      "64/64 [==============================] - 3s 45ms/step - loss: 0.6356 - accuracy: 0.8086 - val_loss: 0.4070 - val_accuracy: 0.8930\n",
      "Epoch 11/120\n",
      "64/64 [==============================] - 3s 44ms/step - loss: 0.5905 - accuracy: 0.8207 - val_loss: 0.3738 - val_accuracy: 0.9019\n",
      "Epoch 12/120\n",
      "64/64 [==============================] - 3s 46ms/step - loss: 0.5518 - accuracy: 0.8318 - val_loss: 0.3511 - val_accuracy: 0.9085\n",
      "Epoch 13/120\n",
      "64/64 [==============================] - 3s 48ms/step - loss: 0.5069 - accuracy: 0.8420 - val_loss: 0.3434 - val_accuracy: 0.9108\n",
      "Epoch 14/120\n",
      "64/64 [==============================] - 3s 46ms/step - loss: 0.4718 - accuracy: 0.8519 - val_loss: 0.3505 - val_accuracy: 0.9058\n",
      "Epoch 15/120\n",
      "64/64 [==============================] - 3s 46ms/step - loss: 0.4392 - accuracy: 0.8602 - val_loss: 0.3106 - val_accuracy: 0.9170\n",
      "Epoch 16/120\n",
      "64/64 [==============================] - 3s 46ms/step - loss: 0.4067 - accuracy: 0.8707 - val_loss: 0.3050 - val_accuracy: 0.9191\n",
      "Epoch 17/120\n",
      "64/64 [==============================] - 3s 45ms/step - loss: 0.3765 - accuracy: 0.8811 - val_loss: 0.2997 - val_accuracy: 0.9221\n",
      "Epoch 18/120\n",
      "64/64 [==============================] - 3s 48ms/step - loss: 0.3491 - accuracy: 0.8885 - val_loss: 0.2877 - val_accuracy: 0.9257\n",
      "Epoch 19/120\n",
      "64/64 [==============================] - 3s 47ms/step - loss: 0.3284 - accuracy: 0.8949 - val_loss: 0.2951 - val_accuracy: 0.9249\n",
      "Epoch 20/120\n",
      "64/64 [==============================] - 3s 46ms/step - loss: 0.3069 - accuracy: 0.9018 - val_loss: 0.2775 - val_accuracy: 0.9278\n",
      "Epoch 21/120\n",
      "64/64 [==============================] - 3s 46ms/step - loss: 0.2858 - accuracy: 0.9076 - val_loss: 0.2743 - val_accuracy: 0.9300\n",
      "Epoch 22/120\n",
      "64/64 [==============================] - 3s 45ms/step - loss: 0.2661 - accuracy: 0.9136 - val_loss: 0.2659 - val_accuracy: 0.9308\n",
      "Epoch 23/120\n",
      "64/64 [==============================] - 3s 45ms/step - loss: 0.2486 - accuracy: 0.9195 - val_loss: 0.2735 - val_accuracy: 0.9307\n",
      "Epoch 24/120\n",
      "64/64 [==============================] - 3s 44ms/step - loss: 0.2282 - accuracy: 0.9252 - val_loss: 0.2646 - val_accuracy: 0.9325\n",
      "Epoch 25/120\n",
      "64/64 [==============================] - 3s 44ms/step - loss: 0.2165 - accuracy: 0.9290 - val_loss: 0.2672 - val_accuracy: 0.9344\n",
      "Epoch 26/120\n",
      "64/64 [==============================] - 3s 45ms/step - loss: 0.2022 - accuracy: 0.9340 - val_loss: 0.2623 - val_accuracy: 0.9347\n",
      "Epoch 27/120\n",
      "64/64 [==============================] - 3s 46ms/step - loss: 0.1870 - accuracy: 0.9386 - val_loss: 0.2635 - val_accuracy: 0.9350\n",
      "Epoch 28/120\n",
      "64/64 [==============================] - 3s 49ms/step - loss: 0.1782 - accuracy: 0.9412 - val_loss: 0.2647 - val_accuracy: 0.9353\n",
      "Epoch 29/120\n",
      "64/64 [==============================] - 3s 46ms/step - loss: 0.1680 - accuracy: 0.9442 - val_loss: 0.2643 - val_accuracy: 0.9368\n",
      "Epoch 30/120\n",
      "64/64 [==============================] - 3s 48ms/step - loss: 0.1585 - accuracy: 0.9472 - val_loss: 0.2569 - val_accuracy: 0.9384\n",
      "Epoch 31/120\n",
      "64/64 [==============================] - 3s 43ms/step - loss: 0.1495 - accuracy: 0.9503 - val_loss: 0.2643 - val_accuracy: 0.9377\n",
      "Epoch 32/120\n",
      "64/64 [==============================] - 3s 47ms/step - loss: 0.1398 - accuracy: 0.9535 - val_loss: 0.2644 - val_accuracy: 0.9379\n",
      "Epoch 33/120\n",
      "64/64 [==============================] - 3s 45ms/step - loss: 0.1329 - accuracy: 0.9561 - val_loss: 0.2581 - val_accuracy: 0.9395\n",
      "Epoch 34/120\n",
      "64/64 [==============================] - 3s 47ms/step - loss: 0.1257 - accuracy: 0.9578 - val_loss: 0.2630 - val_accuracy: 0.9380\n",
      "Epoch 35/120\n",
      "64/64 [==============================] - 3s 48ms/step - loss: 0.1278 - accuracy: 0.9577 - val_loss: 0.2632 - val_accuracy: 0.9399\n",
      "Epoch 36/120\n",
      "64/64 [==============================] - 3s 45ms/step - loss: 0.1180 - accuracy: 0.9610 - val_loss: 0.2604 - val_accuracy: 0.9405\n",
      "Epoch 37/120\n",
      "64/64 [==============================] - 3s 43ms/step - loss: 0.1157 - accuracy: 0.9619 - val_loss: 0.2604 - val_accuracy: 0.9406\n",
      "Epoch 38/120\n",
      "64/64 [==============================] - 3s 47ms/step - loss: 0.1069 - accuracy: 0.9646 - val_loss: 0.2586 - val_accuracy: 0.9404\n",
      "Epoch 39/120\n",
      "64/64 [==============================] - 3s 45ms/step - loss: 0.1045 - accuracy: 0.9649 - val_loss: 0.2596 - val_accuracy: 0.9411\n",
      "Epoch 40/120\n",
      "64/64 [==============================] - 3s 45ms/step - loss: 0.1003 - accuracy: 0.9667 - val_loss: 0.2563 - val_accuracy: 0.9425\n",
      "Epoch 41/120\n",
      "64/64 [==============================] - 3s 46ms/step - loss: 0.0953 - accuracy: 0.9678 - val_loss: 0.2575 - val_accuracy: 0.9430\n",
      "Epoch 42/120\n",
      "64/64 [==============================] - 3s 48ms/step - loss: 0.0915 - accuracy: 0.9697 - val_loss: 0.2591 - val_accuracy: 0.9425\n",
      "Epoch 43/120\n",
      "64/64 [==============================] - 3s 44ms/step - loss: 0.0899 - accuracy: 0.9697 - val_loss: 0.2616 - val_accuracy: 0.9429\n",
      "Epoch 44/120\n",
      "64/64 [==============================] - 3s 47ms/step - loss: 0.0843 - accuracy: 0.9720 - val_loss: 0.2558 - val_accuracy: 0.9442\n",
      "Epoch 45/120\n",
      "64/64 [==============================] - 3s 47ms/step - loss: 0.0823 - accuracy: 0.9726 - val_loss: 0.2583 - val_accuracy: 0.9439\n",
      "Epoch 46/120\n",
      "64/64 [==============================] - 3s 43ms/step - loss: 0.0784 - accuracy: 0.9738 - val_loss: 0.2597 - val_accuracy: 0.9427\n",
      "Epoch 47/120\n",
      "64/64 [==============================] - 3s 44ms/step - loss: 0.0771 - accuracy: 0.9741 - val_loss: 0.2634 - val_accuracy: 0.9426\n",
      "Epoch 48/120\n",
      "64/64 [==============================] - 3s 49ms/step - loss: 0.0753 - accuracy: 0.9746 - val_loss: 0.2540 - val_accuracy: 0.9439\n",
      "Epoch 49/120\n",
      "64/64 [==============================] - 3s 45ms/step - loss: 0.0731 - accuracy: 0.9758 - val_loss: 0.2585 - val_accuracy: 0.9440\n",
      "Epoch 50/120\n",
      "64/64 [==============================] - 3s 46ms/step - loss: 0.0710 - accuracy: 0.9764 - val_loss: 0.2605 - val_accuracy: 0.9441\n",
      "Epoch 51/120\n",
      "64/64 [==============================] - 3s 47ms/step - loss: 0.0661 - accuracy: 0.9779 - val_loss: 0.2648 - val_accuracy: 0.9441\n",
      "Epoch 52/120\n",
      "64/64 [==============================] - 3s 49ms/step - loss: 0.0665 - accuracy: 0.9777 - val_loss: 0.2562 - val_accuracy: 0.9448\n",
      "Epoch 53/120\n",
      "64/64 [==============================] - 3s 46ms/step - loss: 0.0656 - accuracy: 0.9783 - val_loss: 0.2659 - val_accuracy: 0.9443\n",
      "Epoch 54/120\n",
      "64/64 [==============================] - 3s 47ms/step - loss: 0.0644 - accuracy: 0.9788 - val_loss: 0.2624 - val_accuracy: 0.9446\n",
      "Epoch 55/120\n",
      "64/64 [==============================] - 3s 49ms/step - loss: 0.0611 - accuracy: 0.9798 - val_loss: 0.2615 - val_accuracy: 0.9445\n",
      "Epoch 56/120\n",
      "64/64 [==============================] - 3s 48ms/step - loss: 0.0604 - accuracy: 0.9798 - val_loss: 0.2636 - val_accuracy: 0.9445\n",
      "Epoch 57/120\n",
      "64/64 [==============================] - 3s 44ms/step - loss: 0.0595 - accuracy: 0.9804 - val_loss: 0.2617 - val_accuracy: 0.9448\n",
      "Epoch 58/120\n",
      "64/64 [==============================] - 3s 48ms/step - loss: 0.0595 - accuracy: 0.9801 - val_loss: 0.2605 - val_accuracy: 0.9458\n",
      "Epoch 59/120\n",
      "64/64 [==============================] - 3s 48ms/step - loss: 0.0590 - accuracy: 0.9804 - val_loss: 0.2625 - val_accuracy: 0.9449\n",
      "Epoch 60/120\n",
      "64/64 [==============================] - 3s 43ms/step - loss: 0.0562 - accuracy: 0.9816 - val_loss: 0.2619 - val_accuracy: 0.9455\n",
      "Epoch 61/120\n",
      "64/64 [==============================] - 3s 43ms/step - loss: 0.0568 - accuracy: 0.9811 - val_loss: 0.2597 - val_accuracy: 0.9455\n",
      "Epoch 62/120\n",
      "64/64 [==============================] - 3s 44ms/step - loss: 0.0555 - accuracy: 0.9813 - val_loss: 0.2609 - val_accuracy: 0.9451\n",
      "Epoch 63/120\n",
      "64/64 [==============================] - 3s 47ms/step - loss: 0.0518 - accuracy: 0.9825 - val_loss: 0.2607 - val_accuracy: 0.9452\n",
      "Epoch 64/120\n",
      "64/64 [==============================] - 3s 44ms/step - loss: 0.0522 - accuracy: 0.9826 - val_loss: 0.2691 - val_accuracy: 0.9448\n",
      "Epoch 65/120\n",
      "64/64 [==============================] - 3s 43ms/step - loss: 0.0517 - accuracy: 0.9828 - val_loss: 0.2603 - val_accuracy: 0.9457\n",
      "Epoch 66/120\n",
      "64/64 [==============================] - 3s 43ms/step - loss: 0.0503 - accuracy: 0.9833 - val_loss: 0.2604 - val_accuracy: 0.9451\n",
      "Epoch 67/120\n",
      "64/64 [==============================] - 3s 45ms/step - loss: 0.0489 - accuracy: 0.9842 - val_loss: 0.2650 - val_accuracy: 0.9457\n",
      "Epoch 68/120\n",
      "64/64 [==============================] - 3s 44ms/step - loss: 0.0495 - accuracy: 0.9837 - val_loss: 0.2631 - val_accuracy: 0.9455\n",
      "Epoch 69/120\n",
      "64/64 [==============================] - 3s 39ms/step - loss: 0.0480 - accuracy: 0.9839 - val_loss: 0.2627 - val_accuracy: 0.9459\n",
      "Epoch 70/120\n",
      "64/64 [==============================] - 3s 42ms/step - loss: 0.0469 - accuracy: 0.9839 - val_loss: 0.2639 - val_accuracy: 0.9459\n",
      "Epoch 71/120\n",
      "64/64 [==============================] - 3s 48ms/step - loss: 0.0460 - accuracy: 0.9846 - val_loss: 0.2623 - val_accuracy: 0.9460\n",
      "Epoch 72/120\n",
      "64/64 [==============================] - 3s 47ms/step - loss: 0.0458 - accuracy: 0.9852 - val_loss: 0.2643 - val_accuracy: 0.9456\n",
      "Epoch 73/120\n",
      "64/64 [==============================] - 3s 40ms/step - loss: 0.0454 - accuracy: 0.9849 - val_loss: 0.2643 - val_accuracy: 0.9463\n",
      "Epoch 74/120\n",
      "64/64 [==============================] - 3s 43ms/step - loss: 0.0445 - accuracy: 0.9851 - val_loss: 0.2687 - val_accuracy: 0.9456\n",
      "Epoch 75/120\n",
      "64/64 [==============================] - 3s 45ms/step - loss: 0.0453 - accuracy: 0.9850 - val_loss: 0.2629 - val_accuracy: 0.9466\n",
      "Epoch 76/120\n",
      "64/64 [==============================] - 3s 41ms/step - loss: 0.0445 - accuracy: 0.9854 - val_loss: 0.2635 - val_accuracy: 0.9464\n",
      "Epoch 77/120\n",
      "64/64 [==============================] - 3s 41ms/step - loss: 0.0448 - accuracy: 0.9852 - val_loss: 0.2641 - val_accuracy: 0.9465\n",
      "Epoch 78/120\n",
      "64/64 [==============================] - 3s 42ms/step - loss: 0.0424 - accuracy: 0.9859 - val_loss: 0.2645 - val_accuracy: 0.9464\n",
      "Epoch 79/120\n",
      "64/64 [==============================] - 3s 48ms/step - loss: 0.0416 - accuracy: 0.9862 - val_loss: 0.2635 - val_accuracy: 0.9464\n",
      "Epoch 80/120\n",
      "64/64 [==============================] - 3s 45ms/step - loss: 0.0428 - accuracy: 0.9860 - val_loss: 0.2636 - val_accuracy: 0.9461\n",
      "Epoch 81/120\n",
      "64/64 [==============================] - 3s 45ms/step - loss: 0.0426 - accuracy: 0.9860 - val_loss: 0.2644 - val_accuracy: 0.9464\n",
      "Epoch 82/120\n",
      "64/64 [==============================] - 3s 45ms/step - loss: 0.0387 - accuracy: 0.9871 - val_loss: 0.2648 - val_accuracy: 0.9461\n",
      "Epoch 83/120\n",
      "64/64 [==============================] - 3s 44ms/step - loss: 0.0397 - accuracy: 0.9868 - val_loss: 0.2666 - val_accuracy: 0.9466\n",
      "Epoch 84/120\n",
      "64/64 [==============================] - 3s 49ms/step - loss: 0.0400 - accuracy: 0.9868 - val_loss: 0.2641 - val_accuracy: 0.9467\n",
      "Epoch 85/120\n",
      "64/64 [==============================] - 3s 45ms/step - loss: 0.0389 - accuracy: 0.9871 - val_loss: 0.2655 - val_accuracy: 0.9467\n",
      "Epoch 86/120\n",
      "64/64 [==============================] - 3s 45ms/step - loss: 0.0394 - accuracy: 0.9869 - val_loss: 0.2645 - val_accuracy: 0.9464\n",
      "Epoch 87/120\n",
      "64/64 [==============================] - 3s 43ms/step - loss: 0.0387 - accuracy: 0.9874 - val_loss: 0.2668 - val_accuracy: 0.9464\n",
      "Epoch 88/120\n",
      "64/64 [==============================] - 3s 45ms/step - loss: 0.0386 - accuracy: 0.9873 - val_loss: 0.2649 - val_accuracy: 0.9464\n",
      "Epoch 89/120\n",
      "64/64 [==============================] - 3s 47ms/step - loss: 0.0390 - accuracy: 0.9868 - val_loss: 0.2631 - val_accuracy: 0.9463\n",
      "Epoch 90/120\n",
      "64/64 [==============================] - 3s 46ms/step - loss: 0.0388 - accuracy: 0.9873 - val_loss: 0.2659 - val_accuracy: 0.9460\n",
      "Epoch 91/120\n",
      "64/64 [==============================] - 3s 44ms/step - loss: 0.0395 - accuracy: 0.9868 - val_loss: 0.2647 - val_accuracy: 0.9465\n",
      "Epoch 92/120\n",
      "64/64 [==============================] - 3s 48ms/step - loss: 0.0373 - accuracy: 0.9877 - val_loss: 0.2671 - val_accuracy: 0.9465\n",
      "Epoch 93/120\n",
      "64/64 [==============================] - 3s 48ms/step - loss: 0.0377 - accuracy: 0.9876 - val_loss: 0.2650 - val_accuracy: 0.9469\n",
      "Epoch 94/120\n",
      "64/64 [==============================] - 3s 45ms/step - loss: 0.0361 - accuracy: 0.9881 - val_loss: 0.2661 - val_accuracy: 0.9465\n",
      "Epoch 95/120\n",
      "64/64 [==============================] - 3s 47ms/step - loss: 0.0361 - accuracy: 0.9883 - val_loss: 0.2661 - val_accuracy: 0.9468\n",
      "Epoch 96/120\n",
      "64/64 [==============================] - 3s 47ms/step - loss: 0.0370 - accuracy: 0.9878 - val_loss: 0.2641 - val_accuracy: 0.9468\n",
      "Epoch 97/120\n",
      "64/64 [==============================] - 3s 45ms/step - loss: 0.0358 - accuracy: 0.9882 - val_loss: 0.2648 - val_accuracy: 0.9466\n",
      "Epoch 98/120\n",
      "64/64 [==============================] - 3s 41ms/step - loss: 0.0357 - accuracy: 0.9884 - val_loss: 0.2657 - val_accuracy: 0.9471\n",
      "Epoch 99/120\n",
      "64/64 [==============================] - 3s 47ms/step - loss: 0.0356 - accuracy: 0.9880 - val_loss: 0.2655 - val_accuracy: 0.9468\n",
      "Epoch 100/120\n",
      "64/64 [==============================] - 4s 52ms/step - loss: 0.0363 - accuracy: 0.9882 - val_loss: 0.2657 - val_accuracy: 0.9468\n",
      "Epoch 101/120\n",
      "64/64 [==============================] - 3s 42ms/step - loss: 0.0354 - accuracy: 0.9884 - val_loss: 0.2683 - val_accuracy: 0.9465\n",
      "Epoch 102/120\n",
      "64/64 [==============================] - 3s 42ms/step - loss: 0.0357 - accuracy: 0.9881 - val_loss: 0.2645 - val_accuracy: 0.9470\n",
      "Epoch 103/120\n",
      "64/64 [==============================] - 3s 42ms/step - loss: 0.0343 - accuracy: 0.9890 - val_loss: 0.2642 - val_accuracy: 0.9469\n",
      "Epoch 104/120\n",
      "64/64 [==============================] - 3s 40ms/step - loss: 0.0355 - accuracy: 0.9882 - val_loss: 0.2644 - val_accuracy: 0.9467\n",
      "Epoch 105/120\n",
      "64/64 [==============================] - 3s 40ms/step - loss: 0.0360 - accuracy: 0.9878 - val_loss: 0.2659 - val_accuracy: 0.9466\n",
      "Epoch 106/120\n",
      "64/64 [==============================] - 3s 39ms/step - loss: 0.0354 - accuracy: 0.9882 - val_loss: 0.2671 - val_accuracy: 0.9466\n",
      "Epoch 107/120\n",
      "64/64 [==============================] - 3s 43ms/step - loss: 0.0345 - accuracy: 0.9887 - val_loss: 0.2668 - val_accuracy: 0.9464\n",
      "Epoch 108/120\n",
      "64/64 [==============================] - 3s 43ms/step - loss: 0.0339 - accuracy: 0.9888 - val_loss: 0.2670 - val_accuracy: 0.9467\n",
      "Epoch 109/120\n",
      "64/64 [==============================] - 3s 42ms/step - loss: 0.0337 - accuracy: 0.9890 - val_loss: 0.2648 - val_accuracy: 0.9469\n",
      "Epoch 110/120\n",
      "64/64 [==============================] - 3s 40ms/step - loss: 0.0345 - accuracy: 0.9886 - val_loss: 0.2672 - val_accuracy: 0.9466\n",
      "Epoch 111/120\n",
      "64/64 [==============================] - 3s 39ms/step - loss: 0.0336 - accuracy: 0.9891 - val_loss: 0.2665 - val_accuracy: 0.9465\n",
      "Epoch 112/120\n",
      "64/64 [==============================] - 3s 41ms/step - loss: 0.0344 - accuracy: 0.9890 - val_loss: 0.2663 - val_accuracy: 0.9471\n",
      "Epoch 113/120\n",
      "64/64 [==============================] - 3s 42ms/step - loss: 0.0329 - accuracy: 0.9894 - val_loss: 0.2667 - val_accuracy: 0.9473\n",
      "Epoch 114/120\n",
      "64/64 [==============================] - 3s 43ms/step - loss: 0.0344 - accuracy: 0.9886 - val_loss: 0.2655 - val_accuracy: 0.9473\n",
      "Epoch 115/120\n",
      "64/64 [==============================] - 3s 41ms/step - loss: 0.0329 - accuracy: 0.9892 - val_loss: 0.2671 - val_accuracy: 0.9467\n",
      "Epoch 116/120\n",
      "64/64 [==============================] - 3s 45ms/step - loss: 0.0327 - accuracy: 0.9893 - val_loss: 0.2660 - val_accuracy: 0.9468\n",
      "Epoch 117/120\n",
      "64/64 [==============================] - 3s 46ms/step - loss: 0.0330 - accuracy: 0.9892 - val_loss: 0.2672 - val_accuracy: 0.9468\n",
      "Epoch 118/120\n",
      "64/64 [==============================] - 3s 48ms/step - loss: 0.0329 - accuracy: 0.9890 - val_loss: 0.2667 - val_accuracy: 0.9467\n",
      "Epoch 119/120\n",
      "64/64 [==============================] - 3s 46ms/step - loss: 0.0335 - accuracy: 0.9885 - val_loss: 0.2663 - val_accuracy: 0.9472\n",
      "Epoch 120/120\n",
      "64/64 [==============================] - 3s 44ms/step - loss: 0.0330 - accuracy: 0.9893 - val_loss: 0.2663 - val_accuracy: 0.9471\n"
     ]
    }
   ],
   "source": [
    "\n",
    "history = model.fit(\n",
    "    train_data,\n",
    "    validation_data=test_data,\n",
    "    epochs=120\n",
    ")"
   ]
  },
  {
   "cell_type": "code",
   "execution_count": 22,
   "metadata": {},
   "outputs": [
    {
     "name": "stdout",
     "output_type": "stream",
     "text": [
      "1/1 [==============================] - 0s 197ms/step\n"
     ]
    },
    {
     "data": {
      "text/plain": [
       "'皖AZ1U29'"
      ]
     },
     "execution_count": 22,
     "metadata": {},
     "output_type": "execute_result"
    }
   ],
   "source": [
    "# 测试图片读取\n",
    "test_img = cv2.imread(\"train/4137.jpg\")\n",
    "\n",
    "\n",
    "denoised_test_image = cv2.fastNlMeansDenoisingColored(test_img, None, 10, 10, 7, 21) # 进行去噪处理\n",
    "kernel = cv2.getStructuringElement(cv2.MORPH_RECT, (2, 2))\n",
    "plate_test_image = cv2.dilate(denoised_test_image, kernel)\n",
    "test_img = cv2.resize(plate_test_image, (80, 30))\n",
    "img_array = tf.expand_dims(test_img, 0) \n",
    "predictions = model.predict(img_array)\n",
    "\n",
    "def vec2text(vec):\n",
    "    text = []\n",
    "    for c in vec:\n",
    "        if vocabulary[c] != '-':  # 忽略填充字符\n",
    "            text.append(vocabulary[c])\n",
    "    return \"\".join(text)\n",
    "vec2text(np.argmax(predictions, axis=2)[0])"
   ]
  },
  {
   "cell_type": "code",
   "execution_count": 23,
   "metadata": {},
   "outputs": [
    {
     "data": {
      "image/png": "[encoded data removed]",
      "text/plain": [
       "<Figure size 640x480 with 1 Axes>"
      ]
     },
     "metadata": {},
     "output_type": "display_data"
    },
    {
     "data": {
      "image/png": "[encoded data removed]",
      "text/plain": [
       "<Figure size 640x480 with 1 Axes>"
      ]
     },
     "metadata": {},
     "output_type": "display_data"
    }
   ],
   "source": [
    "# 获取准确率与损失函数情况\n",
    "acc = history.history['accuracy']\n",
    "val_acc = history.history['val_accuracy']\n",
    "loss = history.history['loss']\n",
    "val_loss = history.history['val_loss']\n",
    "\n",
    "# matplotlib绘制训练过程中指标的变化状况\n",
    "epochs = range(len(acc))\n",
    "\n",
    "import matplotlib.pyplot as plt\n",
    "plt.plot(epochs, acc, 'r', label='Training accuracy')\n",
    "plt.plot(epochs, val_acc, 'b', label='Validation accuracy')\n",
    "plt.title('CNN Training and validation accuracy')\n",
    "plt.legend()\n",
    "plt.figure()\n",
    "\n",
    "plt.plot(epochs, loss, 'r', label='Training Loss')\n",
    "plt.plot(epochs, val_loss, 'b', label='Validation Loss')\n",
    "plt.title('CNN Training and validation loss')\n",
    "plt.legend()\n",
    "\n",
    "plt.show()"
   ]
  },
  {
   "cell_type": "markdown",
   "metadata": {},
   "source": [
    "## 保存模型"
   ]
  },
  {
   "cell_type": "code",
   "execution_count": 24,
   "metadata": {},
   "outputs": [
    {
     "name": "stderr",
     "output_type": "stream",
     "text": [
      "WARNING:absl:Found untraced functions such as _jit_compiled_convolution_op, _jit_compiled_convolution_op, _jit_compiled_convolution_op while saving (showing 3 of 3). These functions will not be directly callable after loading.\n"
     ]
    },
    {
     "name": "stdout",
     "output_type": "stream",
     "text": [
      "INFO:tensorflow:Assets written to: plateRec_model0.98/assets\n"
     ]
    },
    {
     "name": "stderr",
     "output_type": "stream",
     "text": [
      "INFO:tensorflow:Assets written to: plateRec_model0.98/assets\n"
     ]
    }
   ],
   "source": [
    "model.save('plateRec_model', save_format='tf')"
   ]
  }
 ],
 "metadata": {
  "kernelspec": {
   "display_name": "py38",
   "language": "python",
   "name": "py38"
  },
  "language_info": {
   "codemirror_mode": {
    "name": "ipython",
    "version": 3
   },
   "file_extension": ".py",
   "mimetype": "text/x-python",
   "name": "python",
   "nbconvert_exporter": "python",
   "pygments_lexer": "ipython3",
   "version": "3.8.18"
  }
 },
 "nbformat": 4,
 "nbformat_minor": 4
}
